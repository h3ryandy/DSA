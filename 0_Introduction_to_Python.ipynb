{
  "nbformat": 4,
  "nbformat_minor": 0,
  "metadata": {
    "colab": {
      "name": "0 - Introduction to Python.ipynb",
      "provenance": [],
      "include_colab_link": true
    },
    "kernelspec": {
      "display_name": "Python 3",
      "language": "python",
      "name": "python3"
    },
    "language_info": {
      "codemirror_mode": {
        "name": "ipython",
        "version": 3
      },
      "file_extension": ".py",
      "mimetype": "text/x-python",
      "name": "python",
      "nbconvert_exporter": "python",
      "pygments_lexer": "ipython3",
      "version": "3.8.3"
    }
  },
  "cells": [
    {
      "cell_type": "markdown",
      "metadata": {
        "id": "view-in-github",
        "colab_type": "text"
      },
      "source": [
        "<a href=\"https://colab.research.google.com/github/h3ryandy/DSA/blob/main/0_Introduction_to_Python.ipynb\" target=\"_parent\"><img src=\"https://colab.research.google.com/assets/colab-badge.svg\" alt=\"Open In Colab\"/></a>"
      ]
    },
    {
      "cell_type": "markdown",
      "metadata": {
        "id": "kY33yv3Wg888"
      },
      "source": [
        "# Data Structure and Algorithm\n",
        "\n"
      ]
    },
    {
      "cell_type": "markdown",
      "metadata": {
        "id": "0hCMtLipg88-"
      },
      "source": [
        "## About the instructor: \n",
        "    \n",
        "**Ts. Dr. Yu Yong Poh**\n",
        "\n",
        "REDBEAT ACADEMY, AIRASIA\n",
        "    \n",
        "yongpohyu@airasia.com\n",
        "\n",
        "LinkedIn: [Yong Poh Yu](https://www.linkedin.com/in/yong-poh-yu/)\n",
        "\n",
        "©2021 RedBeat Academy Sdn. Bhd. All rights reserved."
      ]
    },
    {
      "cell_type": "markdown",
      "metadata": {
        "id": "W3HvsNNBxjun"
      },
      "source": [
        "## Preface: \n",
        "\n",
        "This course covers both basic and advanced data structure like Arrays, Linked Lists, Trees, Hashtables, Stacks, Queues, Heaps, Sort algorithms like QuickSort, MergeSort, and Insertion sort and Search algorithms like linear and binary search.\n",
        "\n",
        "This course also covers some of the advanced algorithms like  Dijkstra’s algorithm, Bellman-Ford algorithm, Kruskal algorithm, etc.\n",
        "\n",
        "All the code examples and problems are implemented using Python programming language so that you don’t have any difficulty in understanding how to apply them on your own."
      ]
    },
    {
      "cell_type": "markdown",
      "metadata": {
        "id": "-FIO8CkIxjup"
      },
      "source": [
        "## Day 0: Introduction to Python"
      ]
    },
    {
      "cell_type": "markdown",
      "metadata": {
        "id": "S-135gnexjuq"
      },
      "source": [
        "### Why Python?\n",
        "\n",
        "1. It’s easy to learn\n",
        "- Now the top programming language (ref: [IEEE](https://spectrum.ieee.org/at-work/tech-careers/top-programming-language-2020) )\n",
        "\n",
        "2. Full featured\n",
        "\n",
        "3. Strong Libraries\n",
        "\n",
        "\n",
        "Please be noted that Python isn't the only way/langugage that we can learn data structure and algorithm. We can learn DSA in C/C++, Java, or any other programming languages.  The concepts are more important for you to understand. \n",
        "\n",
        "\n"
      ]
    },
    {
      "cell_type": "markdown",
      "metadata": {
        "id": "oGvETCxGg89I"
      },
      "source": [
        "### print\n",
        "\n",
        "type **print(\"Hello World\")** and observe the difference"
      ]
    },
    {
      "cell_type": "code",
      "metadata": {
        "colab": {
          "base_uri": "https://localhost:8080/"
        },
        "id": "JyEMKNQPg89J",
        "scrolled": true,
        "outputId": "4d4c3f0e-7400-4808-d8a3-5b03b6142cb7"
      },
      "source": [
        "print(\"Hello World\")"
      ],
      "execution_count": null,
      "outputs": [
        {
          "output_type": "stream",
          "text": [
            "Hello World\n"
          ],
          "name": "stdout"
        }
      ]
    },
    {
      "cell_type": "code",
      "metadata": {
        "colab": {
          "base_uri": "https://localhost:8080/",
          "height": 35
        },
        "id": "Y5g6hAnjFP43",
        "outputId": "59e9dd5b-ad6f-4f8a-c7ad-712a969a2edc"
      },
      "source": [
        "\"Hello World\""
      ],
      "execution_count": null,
      "outputs": [
        {
          "output_type": "execute_result",
          "data": {
            "application/vnd.google.colaboratory.intrinsic+json": {
              "type": "string"
            },
            "text/plain": [
              "'Hello World'"
            ]
          },
          "metadata": {
            "tags": []
          },
          "execution_count": 4
        }
      ]
    },
    {
      "cell_type": "code",
      "metadata": {
        "colab": {
          "base_uri": "https://localhost:8080/"
        },
        "id": "Q61zwIGzFmcF",
        "outputId": "9bd8dd5a-fcde-4d6e-8e13-443b0dfc300b"
      },
      "source": [
        "print(\"Hello World\")\r\n",
        "print(\"I Love AirAsia\")"
      ],
      "execution_count": null,
      "outputs": [
        {
          "output_type": "stream",
          "text": [
            "Hello World\n",
            "I Love AirAsia\n"
          ],
          "name": "stdout"
        }
      ]
    },
    {
      "cell_type": "code",
      "metadata": {
        "colab": {
          "base_uri": "https://localhost:8080/",
          "height": 35
        },
        "id": "_tsAW-F2FxV3",
        "outputId": "37850acd-c7b0-4114-aea0-c4688ed8df25"
      },
      "source": [
        "\"Hello World\"\r\n",
        "\"I Love AirAsia\""
      ],
      "execution_count": null,
      "outputs": [
        {
          "output_type": "execute_result",
          "data": {
            "application/vnd.google.colaboratory.intrinsic+json": {
              "type": "string"
            },
            "text/plain": [
              "'I Love AirAsia'"
            ]
          },
          "metadata": {
            "tags": []
          },
          "execution_count": 6
        }
      ]
    },
    {
      "cell_type": "markdown",
      "metadata": {
        "id": "_I8QUrO7g89P"
      },
      "source": [
        "## Numeric\n",
        "\n",
        "Python can also handle numbers, and basic arithmetic using the following functions.\n",
        "\n",
        "| Symbol | Task Performed |\n",
        "|----|---|\n",
        "| +  | Addition |\n",
        "| -  | Subtraction |\n",
        "| /  | division |\n",
        "| %  | modulo |\n",
        "| *  | multiplication |\n",
        "| //  | floor division |\n",
        "| **  | to the power of |"
      ]
    },
    {
      "cell_type": "code",
      "metadata": {
        "id": "y7c5ijBPxjux",
        "outputId": "73cfb970-19e9-4e8e-f6d2-3b4fe473a1fe"
      },
      "source": [
        "5//3"
      ],
      "execution_count": null,
      "outputs": [
        {
          "output_type": "execute_result",
          "data": {
            "text/plain": [
              "1"
            ]
          },
          "metadata": {
            "tags": []
          },
          "execution_count": 3
        }
      ]
    },
    {
      "cell_type": "code",
      "metadata": {
        "id": "ceo3oAfIg89R",
        "scrolled": false,
        "outputId": "db950728-4d6c-4fe7-c514-9ebed1878648"
      },
      "source": [
        "print(3)\n",
        "print(3*5)\n",
        "print(3+3)\n",
        "print(3-2)\n",
        "print(8/3)"
      ],
      "execution_count": null,
      "outputs": [
        {
          "output_type": "stream",
          "text": [
            "3\n",
            "15\n",
            "6\n",
            "1\n",
            "2.6666666666666665\n"
          ],
          "name": "stdout"
        }
      ]
    },
    {
      "cell_type": "markdown",
      "metadata": {
        "id": "llEo2mVxg89X"
      },
      "source": [
        "**Type the following and observe the difference**\n",
        "\n",
        "3\n",
        "\n",
        "3*5\n",
        "\n",
        "3+3\n",
        "\n",
        "3-2\n",
        "\n",
        "8/2"
      ]
    },
    {
      "cell_type": "code",
      "metadata": {
        "id": "J8K_VYbMg89Y",
        "outputId": "61ffceb1-d8f9-40a4-efc0-d48c854c8800"
      },
      "source": [
        "3\n",
        "\n",
        "3*5\n",
        "\n",
        "3+3\n",
        "\n",
        "3-2\n",
        "\n",
        "8/2"
      ],
      "execution_count": null,
      "outputs": [
        {
          "output_type": "execute_result",
          "data": {
            "text/plain": [
              "4.0"
            ]
          },
          "metadata": {
            "tags": []
          },
          "execution_count": 5
        }
      ]
    },
    {
      "cell_type": "markdown",
      "metadata": {
        "id": "H-GXoSmHg89c"
      },
      "source": [
        "### Practice: Basic Arithmetic Exercises"
      ]
    },
    {
      "cell_type": "code",
      "metadata": {
        "id": "-90ezG6Bg89c",
        "scrolled": true
      },
      "source": [
        "# What is the duration of our 5-day workshop in minutes?\n",
        "\n",
        "\n"
      ],
      "execution_count": null,
      "outputs": []
    },
    {
      "cell_type": "markdown",
      "metadata": {
        "id": "GKWbvUO2g89h"
      },
      "source": [
        "### Integers vs. Float\n",
        "\n",
        "For Python 2.x, it interprets 1/2 = 0, while Python 3.x the result will be 0.5\n"
      ]
    },
    {
      "cell_type": "code",
      "metadata": {
        "id": "-WhPiYrZg89i",
        "scrolled": true
      },
      "source": [
        "print(1/2)"
      ],
      "execution_count": null,
      "outputs": []
    },
    {
      "cell_type": "code",
      "metadata": {
        "id": "1FQZ6-nYg89l",
        "scrolled": false,
        "outputId": "ed421b25-ecce-404f-f8d3-af361f2f73a2",
        "colab": {
          "base_uri": "https://localhost:8080/"
        }
      },
      "source": [
        "print((type(10)))\n",
        "print((type(10.)))\n",
        "print((10 / 3))\n",
        "print((10 % 3))\n",
        "print((float(10) / 3)) # Force integers to be float\n",
        "print((13.0 / 3.5)) # You can also change the initial data type. \n",
        "print((13.0 //3.5)) # Floor Division, rounds down the result to the nearest integer\n",
        "print((round(7.5))) # You can round floats up to the neares integer."
      ],
      "execution_count": 1,
      "outputs": [
        {
          "output_type": "stream",
          "text": [
            "<class 'int'>\n",
            "<class 'float'>\n",
            "3.3333333333333335\n",
            "1\n",
            "3.3333333333333335\n",
            "3.7142857142857144\n",
            "3.0\n",
            "8\n"
          ],
          "name": "stdout"
        }
      ]
    },
    {
      "cell_type": "code",
      "metadata": {
        "scrolled": true,
        "id": "ryxdw2yYxju6",
        "outputId": "d5b9e4ab-37fa-4d3f-c51b-5e685666d927",
        "colab": {
          "base_uri": "https://localhost:8080/"
        }
      },
      "source": [
        "import math\n",
        "math.floor(5/3)"
      ],
      "execution_count": 2,
      "outputs": [
        {
          "output_type": "execute_result",
          "data": {
            "text/plain": [
              "1"
            ]
          },
          "metadata": {
            "tags": []
          },
          "execution_count": 2
        }
      ]
    },
    {
      "cell_type": "code",
      "metadata": {
        "id": "ED4O6oWpxju6",
        "outputId": "9300405d-4e02-491d-e7c5-8d9b0b63aa28",
        "colab": {
          "base_uri": "https://localhost:8080/"
        }
      },
      "source": [
        "import math\n",
        "math.ceil(5/3)"
      ],
      "execution_count": 3,
      "outputs": [
        {
          "output_type": "execute_result",
          "data": {
            "text/plain": [
              "2"
            ]
          },
          "metadata": {
            "tags": []
          },
          "execution_count": 3
        }
      ]
    },
    {
      "cell_type": "markdown",
      "metadata": {
        "id": "WIR58oWjg894"
      },
      "source": [
        "### Variables"
      ]
    },
    {
      "cell_type": "code",
      "metadata": {
        "id": "76_DJZbug895",
        "scrolled": false,
        "outputId": "6cbcede3-6af8-4967-f47d-8c4d6a97e08d",
        "colab": {
          "base_uri": "https://localhost:8080/"
        }
      },
      "source": [
        "b = -10 \n",
        "c = 2.7 \n",
        "\n",
        "print(b)\n",
        "print(c)\n",
        "print((b + c))\n",
        "\n",
        "print((type(b)))\n",
        "print((type(c)))\n",
        "print((type(b+c)))"
      ],
      "execution_count": 4,
      "outputs": [
        {
          "output_type": "stream",
          "text": [
            "-10\n",
            "2.7\n",
            "-7.3\n",
            "<class 'int'>\n",
            "<class 'float'>\n",
            "<class 'float'>\n"
          ],
          "name": "stdout"
        }
      ]
    },
    {
      "cell_type": "code",
      "metadata": {
        "id": "WyTRDeHHg897",
        "scrolled": true,
        "outputId": "c3a10237-1569-469c-e2b4-3e97325b8978",
        "colab": {
          "base_uri": "https://localhost:8080/"
        }
      },
      "source": [
        "print(b**5)\n",
        "print(b+c*(b/c))"
      ],
      "execution_count": 5,
      "outputs": [
        {
          "output_type": "stream",
          "text": [
            "-100000\n",
            "-20.0\n"
          ],
          "name": "stdout"
        }
      ]
    },
    {
      "cell_type": "markdown",
      "metadata": {
        "id": "hyj-SZKNg89-"
      },
      "source": [
        "### Change the data type"
      ]
    },
    {
      "cell_type": "code",
      "metadata": {
        "id": "ZwrWFK4og89_",
        "outputId": "e08f970c-9e73-4006-e1e9-e16f0e234cf4",
        "colab": {
          "base_uri": "https://localhost:8080/"
        }
      },
      "source": [
        "\n",
        "b = float(b)\n",
        "c = int(c)\n",
        "\n",
        "print(b)\n",
        "print(c)\n",
        "\n",
        "print((type(b)))\n",
        "print((type(c)))"
      ],
      "execution_count": 7,
      "outputs": [
        {
          "output_type": "stream",
          "text": [
            "-10.0\n",
            "2\n",
            "<class 'float'>\n",
            "<class 'int'>\n"
          ],
          "name": "stdout"
        }
      ]
    },
    {
      "cell_type": "markdown",
      "metadata": {
        "id": "uCrNJXi4g8-F"
      },
      "source": [
        "### Exercise\n",
        "\n",
        "How far does light travel in the time that your computer does one cycle?\n",
        "\n",
        "Assuming that the computer is processing at a frequency of 4GHz. "
      ]
    },
    {
      "cell_type": "code",
      "metadata": {
        "id": "E2Cp575yg8-G",
        "outputId": "99aa6d11-9bcb-4dc1-b3f5-bc937833f17e",
        "colab": {
          "base_uri": "https://localhost:8080/"
        }
      },
      "source": [
        "cycletime = 4 * 10**9\r\n",
        "lightspeed = 3 * 10**8\r\n",
        "\r\n",
        "distance = lightspeed / cycletime\r\n",
        "\r\n",
        "print(distance)"
      ],
      "execution_count": 10,
      "outputs": [
        {
          "output_type": "stream",
          "text": [
            "0.075\n"
          ],
          "name": "stdout"
        }
      ]
    },
    {
      "cell_type": "markdown",
      "metadata": {
        "id": "x2chsoSkg8-K"
      },
      "source": [
        "### Type the following command\n",
        "\n",
        "%whos"
      ]
    },
    {
      "cell_type": "code",
      "metadata": {
        "id": "wzXDR5aYg8-K",
        "scrolled": true,
        "outputId": "ed50cc03-0e69-42a1-e602-6390b4e94edd",
        "colab": {
          "base_uri": "https://localhost:8080/"
        }
      },
      "source": [
        "%whos"
      ],
      "execution_count": 11,
      "outputs": [
        {
          "output_type": "stream",
          "text": [
            "Variable     Type      Data/Info\n",
            "--------------------------------\n",
            "b            float     -10.0\n",
            "c            int       2\n",
            "cycletime    int       4000000000\n",
            "distance     float     0.075\n",
            "lightspeed   int       300000000\n",
            "math         module    <module 'math' (built-in)>\n"
          ],
          "name": "stdout"
        }
      ]
    },
    {
      "cell_type": "markdown",
      "metadata": {
        "id": "drk8MLGvg8-O"
      },
      "source": [
        "## Strings"
      ]
    },
    {
      "cell_type": "markdown",
      "metadata": {
        "id": "ZdCK2o59g8-P"
      },
      "source": [
        "Define a variable as your name.  Then print \"I am     ____  from AirAsia\" using your variable. "
      ]
    },
    {
      "cell_type": "code",
      "metadata": {
        "id": "7iJdkXxhg8-P",
        "scrolled": true,
        "outputId": "82a4fc5c-96a8-4052-dddd-abd8c346f3d4"
      },
      "source": [
        "name = 'Yu'\n",
        "print(\"I am \" + name + \" from RBA\")"
      ],
      "execution_count": null,
      "outputs": [
        {
          "output_type": "stream",
          "text": [
            "I am Yu from RBA\n"
          ],
          "name": "stdout"
        }
      ]
    },
    {
      "cell_type": "markdown",
      "metadata": {
        "id": "Bbuj2Bhvg8-T"
      },
      "source": [
        "### What will happen?\n",
        "\n",
        "print(\"AirAsia is no \" + 1)"
      ]
    },
    {
      "cell_type": "code",
      "metadata": {
        "id": "8JAX7EvQg8-U",
        "scrolled": true,
        "outputId": "83b8a4af-7931-480b-99c9-77fd04a623e3"
      },
      "source": [
        "print(\"AirAsia is no \" + 1)"
      ],
      "execution_count": null,
      "outputs": [
        {
          "output_type": "error",
          "ename": "TypeError",
          "evalue": "can only concatenate str (not \"int\") to str",
          "traceback": [
            "\u001b[1;31m---------------------------------------------------------------------------\u001b[0m",
            "\u001b[1;31mTypeError\u001b[0m                                 Traceback (most recent call last)",
            "\u001b[1;32m<ipython-input-7-eb9898b13c20>\u001b[0m in \u001b[0;36m<module>\u001b[1;34m\u001b[0m\n\u001b[1;32m----> 1\u001b[1;33m \u001b[0mprint\u001b[0m\u001b[1;33m(\u001b[0m\u001b[1;34m\"AirAsia is no \"\u001b[0m \u001b[1;33m+\u001b[0m \u001b[1;36m1\u001b[0m\u001b[1;33m)\u001b[0m\u001b[1;33m\u001b[0m\u001b[1;33m\u001b[0m\u001b[0m\n\u001b[0m",
            "\u001b[1;31mTypeError\u001b[0m: can only concatenate str (not \"int\") to str"
          ]
        }
      ]
    },
    {
      "cell_type": "code",
      "metadata": {
        "id": "Dq_S3-esxjvA",
        "outputId": "0fe2af19-591a-4516-a4bc-03cb74e672e9"
      },
      "source": [
        "print(\"AirAsia is no \" + str(1))"
      ],
      "execution_count": null,
      "outputs": [
        {
          "output_type": "stream",
          "text": [
            "AirAsia is no 1\n"
          ],
          "name": "stdout"
        }
      ]
    },
    {
      "cell_type": "code",
      "metadata": {
        "id": "orr1mOEL9sUe",
        "outputId": "fc9dc9d7-fe65-48b2-90c5-6250087133a1",
        "colab": {
          "base_uri": "https://localhost:8080/"
        }
      },
      "source": [
        "ranking = 1\r\n",
        "print(\"AirAsia is no \" + str(ranking))"
      ],
      "execution_count": 13,
      "outputs": [
        {
          "output_type": "stream",
          "text": [
            "AirAsia is no 1\n"
          ],
          "name": "stdout"
        }
      ]
    },
    {
      "cell_type": "markdown",
      "metadata": {
        "id": "PPRDntyLg8-W"
      },
      "source": [
        "### Slices of String Indices\n",
        "\n",
        "\n",
        "my_company[i] -- ith item of my_company, origin 0\n",
        "\n",
        "my_company[i:j] -- slice of my_company from i to j\n",
        "\n",
        "my_company[i:j:k] -- slice of my_company from i to j with step k\n"
      ]
    },
    {
      "cell_type": "code",
      "metadata": {
        "id": "pffXI54og8-W",
        "scrolled": true,
        "outputId": "6189f339-8894-4f7e-c67f-a46f931ad551"
      },
      "source": [
        "my_company ='AirAsia'\n",
        "\n",
        "print(my_company[0])\n",
        "print(my_company[0:5])\n",
        "print(my_company[1:5])\n",
        "print(my_company[0:6])"
      ],
      "execution_count": null,
      "outputs": [
        {
          "output_type": "stream",
          "text": [
            "A\n",
            "AirAs\n",
            "irAs\n",
            "AirAsi\n"
          ],
          "name": "stdout"
        }
      ]
    },
    {
      "cell_type": "code",
      "metadata": {
        "scrolled": true,
        "id": "hgfbDI-BxjvB",
        "outputId": "aa5b65d7-c52c-4d24-89ac-9a1f5d1b3515"
      },
      "source": [
        "print(my_company[1:len(my_company)])"
      ],
      "execution_count": null,
      "outputs": [
        {
          "output_type": "stream",
          "text": [
            "irAsia\n"
          ],
          "name": "stdout"
        }
      ]
    },
    {
      "cell_type": "markdown",
      "metadata": {
        "id": "f1qR4GiUxjvC"
      },
      "source": [
        "What is this?"
      ]
    },
    {
      "cell_type": "code",
      "metadata": {
        "scrolled": true,
        "id": "-OleWULVxjvC",
        "outputId": "882dc7fa-f3fd-4aac-f273-591fc7e2b462"
      },
      "source": [
        "print(my_company[0::2])"
      ],
      "execution_count": null,
      "outputs": [
        {
          "output_type": "stream",
          "text": [
            "Arsa\n"
          ],
          "name": "stdout"
        }
      ]
    },
    {
      "cell_type": "code",
      "metadata": {
        "id": "ffOCZGavxjvD",
        "outputId": "18bb5d03-4d32-471a-fa54-ba652d9420a2"
      },
      "source": [
        "print(my_company[3::])"
      ],
      "execution_count": null,
      "outputs": [
        {
          "output_type": "stream",
          "text": [
            "Asia\n"
          ],
          "name": "stdout"
        }
      ]
    },
    {
      "cell_type": "markdown",
      "metadata": {
        "id": "w-kZqiQ3g8-h"
      },
      "source": [
        "### HELP ME PLEASE\n",
        "\n",
        "just type **help(\"str.find\")**"
      ]
    },
    {
      "cell_type": "code",
      "metadata": {
        "id": "ecsqiB_1g8-i",
        "scrolled": true,
        "outputId": "63d1e045-ea82-4cf7-a22b-f1ed42eff0b5"
      },
      "source": [
        "help(\"str.find\")"
      ],
      "execution_count": null,
      "outputs": [
        {
          "output_type": "stream",
          "text": [
            "Help on method_descriptor in str:\n",
            "\n",
            "str.find = find(...)\n",
            "    S.find(sub[, start[, end]]) -> int\n",
            "    \n",
            "    Return the lowest index in S where substring sub is found,\n",
            "    such that sub is contained within S[start:end].  Optional\n",
            "    arguments start and end are interpreted as in slice notation.\n",
            "    \n",
            "    Return -1 on failure.\n",
            "\n"
          ],
          "name": "stdout"
        }
      ]
    },
    {
      "cell_type": "markdown",
      "metadata": {
        "id": "y4skPW7fg8-q"
      },
      "source": [
        "### Common built- in methods\n",
        "min(s) -- smallest item of s\t\n",
        "\n",
        "max(s) -- largest item of s\t \n",
        "\n",
        "s.count(x) -- total number of occurrences of x in s\t\n",
        "\n",
        "s.lower(), s.upper() -- returns the lowercase or uppercase version of the string\n",
        "\n",
        "s.strip() -- returns a string with whitespace removed from the start and end\n",
        "\n",
        "s.isalpha()/s.isdigit()/s.isspace()... -- tests if all the string chars are in the various character classes\n",
        "\n",
        "s.startswith('other'), s.endswith('other') -- tests if the string starts or ends with the given other string\n",
        "\n",
        "s.replace('old', 'new') -- returns a string where all occurrences of 'old' have been replaced by 'new'\n",
        "\n",
        "s.split('delim') -- returns a list of substrings separated by the given delimiter. The delimiter is not a regular expression, it's just text. 'aaa,bbb,ccc'.split(',') -> ['aaa', 'bbb', 'ccc']. As a convenient special case s.split() (with no arguments) splits on all whitespace chars.\n",
        "\n",
        "s.join(list) -- opposite of split(), joins the elements in the given list together using the string as the delimiter. e.g. '---'.join(['aaa', 'bbb', 'ccc']) -> aaa---bbb---ccc"
      ]
    },
    {
      "cell_type": "markdown",
      "metadata": {
        "id": "rd3lMOy3g8-r"
      },
      "source": [
        "### Exercise\n",
        "\n",
        "print *Tony Fernandes is the founder of AirAsia.* in uppercase"
      ]
    },
    {
      "cell_type": "code",
      "metadata": {
        "id": "S3Ald9MUg8-r",
        "outputId": "d5d04e70-2a8f-4798-b474-25b6a5998aa2",
        "colab": {
          "base_uri": "https://localhost:8080/",
          "height": 35
        }
      },
      "source": [
        "boss = \"Tony Fernandes is the founder of AirAsia.\" \n",
        "\n",
        "boss.upper()"
      ],
      "execution_count": 14,
      "outputs": [
        {
          "output_type": "execute_result",
          "data": {
            "application/vnd.google.colaboratory.intrinsic+json": {
              "type": "string"
            },
            "text/plain": [
              "'TONY FERNANDES IS THE FOUNDER OF AIRASIA.'"
            ]
          },
          "metadata": {
            "tags": []
          },
          "execution_count": 14
        }
      ]
    },
    {
      "cell_type": "markdown",
      "metadata": {
        "id": "KnfTdYR8g8-v"
      },
      "source": [
        "### format()\n",
        "\n",
        "With Python 3.0, the format() method has been introduced for handling complex string formatting more efficiently. This method of the built-in string class provides\n",
        "\n",
        "functionality for complex variable substitutions and value formatting. This new formatting technique is regarded as more elegant. The general syntax of format()"
      ]
    },
    {
      "cell_type": "code",
      "metadata": {
        "id": "qvCUZsdog8-v",
        "scrolled": false,
        "outputId": "6e953f1a-a574-4251-bd7c-c5be0bd0db1e"
      },
      "source": [
        "print('My name is {}. I am working at {} as the {}. \\\n",
        "I have been with this company for {} year(s).'.format('YU','RBA', 'Lead Technical Trainer', 1))"
      ],
      "execution_count": null,
      "outputs": [
        {
          "output_type": "stream",
          "text": [
            "My name is YU. I am working at RBA as the Lead Technical Trainer. I have been with this company for 1 year(s).\n"
          ],
          "name": "stdout"
        }
      ]
    },
    {
      "cell_type": "markdown",
      "metadata": {
        "id": "3aH0wU3Jg8-z"
      },
      "source": [
        "### Function"
      ]
    },
    {
      "cell_type": "code",
      "metadata": {
        "id": "h4EEk1tAg8-z"
      },
      "source": [
        "def addition( x , y ):\n",
        "    \"This is my first function. Please take note that indent is important!\"\n",
        "    \n",
        "    return x + y"
      ],
      "execution_count": null,
      "outputs": []
    },
    {
      "cell_type": "code",
      "metadata": {
        "id": "aU1NlxU1g8-2",
        "scrolled": true,
        "outputId": "71549bff-f6da-4102-e7ee-43971540c911"
      },
      "source": [
        "addition(5,8)"
      ],
      "execution_count": null,
      "outputs": [
        {
          "output_type": "execute_result",
          "data": {
            "text/plain": [
              "13"
            ]
          },
          "metadata": {
            "tags": []
          },
          "execution_count": 22
        }
      ]
    },
    {
      "cell_type": "code",
      "metadata": {
        "id": "vIhcoaHFxjvI",
        "outputId": "00f8aa57-3c87-4395-952e-48d52287d6d0"
      },
      "source": [
        "addition(10,22)"
      ],
      "execution_count": null,
      "outputs": [
        {
          "output_type": "execute_result",
          "data": {
            "text/plain": [
              "32"
            ]
          },
          "metadata": {
            "tags": []
          },
          "execution_count": 23
        }
      ]
    },
    {
      "cell_type": "markdown",
      "metadata": {
        "id": "DY-ejW_jg8-4"
      },
      "source": [
        "### Thinking Corner\n",
        "Oops, \"This is my first function. Please take note that indent is important!\" was not returned?!"
      ]
    },
    {
      "cell_type": "code",
      "metadata": {
        "id": "HLuZKajog8-_",
        "scrolled": true
      },
      "source": [
        "\n",
        "# Retify the problem and complete the code\n",
        "\n",
        "## start your code here...\n",
        "\n",
        "def addition2( x , y ):\n",
        "    print(\"This is my first function. Please take note that indent is important!\")\n",
        "    return x + y\n",
        "\n"
      ],
      "execution_count": 22,
      "outputs": []
    },
    {
      "cell_type": "code",
      "metadata": {
        "id": "PJNwtNKqxjvJ",
        "outputId": "bee927f4-7121-4d38-ea30-3e15913a3ccb",
        "colab": {
          "base_uri": "https://localhost:8080/"
        }
      },
      "source": [
        "addition2(10,22)"
      ],
      "execution_count": 23,
      "outputs": [
        {
          "output_type": "stream",
          "text": [
            "This is my first function. Please take note that indent is important!\n"
          ],
          "name": "stdout"
        },
        {
          "output_type": "execute_result",
          "data": {
            "text/plain": [
              "32"
            ]
          },
          "metadata": {
            "tags": []
          },
          "execution_count": 23
        }
      ]
    },
    {
      "cell_type": "markdown",
      "metadata": {
        "id": "w_E4Rfrng8_B"
      },
      "source": [
        "### Exercise \n",
        "\n",
        "Write a function to find the square root of a number"
      ]
    },
    {
      "cell_type": "code",
      "metadata": {
        "id": "5dH6xN3BxjvK",
        "outputId": "f15320ce-5f01-4746-9c57-4d19a893739a"
      },
      "source": [
        "import math\n",
        "math.sqrt(10)"
      ],
      "execution_count": null,
      "outputs": [
        {
          "output_type": "execute_result",
          "data": {
            "text/plain": [
              "3.1622776601683795"
            ]
          },
          "metadata": {
            "tags": []
          },
          "execution_count": 28
        }
      ]
    },
    {
      "cell_type": "code",
      "metadata": {
        "id": "hzER9yJMxjvL"
      },
      "source": [
        "def squareroot (x):\n",
        "    \n",
        "    return math.sqrt(x)"
      ],
      "execution_count": null,
      "outputs": []
    },
    {
      "cell_type": "code",
      "metadata": {
        "id": "zIEDeKnbxjvL",
        "outputId": "d7d92cb1-a9ee-4cfd-91b7-01d8ac0a2219"
      },
      "source": [
        "squareroot (100)"
      ],
      "execution_count": null,
      "outputs": [
        {
          "output_type": "execute_result",
          "data": {
            "text/plain": [
              "10.0"
            ]
          },
          "metadata": {
            "tags": []
          },
          "execution_count": 30
        }
      ]
    },
    {
      "cell_type": "code",
      "metadata": {
        "id": "vO-q4q5PxjvM",
        "outputId": "8e7fbfb8-b1aa-4902-e71a-f83328b2424f",
        "colab": {
          "base_uri": "https://localhost:8080/"
        }
      },
      "source": [
        "# Your own codes\n",
        "\n",
        "def squareroot(x):\n",
        "  return x**0.5\n",
        "\n",
        "print(squareroot(100))\n",
        "\n"
      ],
      "execution_count": 26,
      "outputs": [
        {
          "output_type": "stream",
          "text": [
            "10.0\n"
          ],
          "name": "stdout"
        }
      ]
    },
    {
      "cell_type": "code",
      "metadata": {
        "id": "cJ5YwQtdxjvM",
        "outputId": "fad60219-4ac6-4fb7-ee2c-09b066fb9fab"
      },
      "source": [
        "squareroot(10)"
      ],
      "execution_count": null,
      "outputs": [
        {
          "output_type": "execute_result",
          "data": {
            "text/plain": [
              "3.1622776601683795"
            ]
          },
          "metadata": {
            "tags": []
          },
          "execution_count": 14
        }
      ]
    },
    {
      "cell_type": "markdown",
      "metadata": {
        "id": "Yn3wO5jSg8_M"
      },
      "source": [
        "### if-else condition\n"
      ]
    },
    {
      "cell_type": "code",
      "metadata": {
        "id": "lgTQV9vTg8_N",
        "outputId": "c7775eac-e6f0-4f5e-dc6d-7841cf4cc3bf"
      },
      "source": [
        "\n",
        "\n",
        "def which_is_bigger(a,b):\n",
        "    if a > b:\n",
        "        return a\n",
        "    elif a < b:\n",
        "        return b\n",
        "    else:\n",
        "        return 'equal'\n",
        "\n",
        "print(which_is_bigger (5,3))\n",
        "print(which_is_bigger (3,6))\n",
        "print(which_is_bigger (3,3))"
      ],
      "execution_count": null,
      "outputs": [
        {
          "output_type": "stream",
          "text": [
            "5\n",
            "6\n",
            "equal\n"
          ],
          "name": "stdout"
        }
      ]
    },
    {
      "cell_type": "markdown",
      "metadata": {
        "id": "EJ1IorJAg8_T"
      },
      "source": [
        "### List Methods\n",
        "\n",
        "- list.append(elem) -- adds a single element to the end of the list. Common error: does not return the new list, just modifies the original.\n",
        "- list.insert(index, elem) -- inserts the element at the given index, shifting elements to the right.\n",
        "- list.extend(list2) adds the elements in list2 to the end of the list. Using + or += on a list is similar to using extend().\n",
        "- list.index(elem) -- searches for the given element from the start of the list and returns its index. Throws a ValueError if the element does not appear (use \"in\" to check without a ValueError).\n",
        "- list.remove(elem) -- searches for the first instance of the given element and removes it (throws ValueError if not present)\n",
        "- list.sort() -- sorts the list in place (does not return it).\n",
        "- sorted(list) -- return sorted list but keeps the original order of the list\n",
        "- list.reverse() -- reverses the list in place (does not return it)\n",
        "- list.pop(index) -- removes and returns the element at the given index. Returns the rightmost element if index is omitted (roughly the opposite of append())."
      ]
    },
    {
      "cell_type": "markdown",
      "metadata": {
        "id": "_Pn8K8U6g8_T"
      },
      "source": [
        "#### Example"
      ]
    },
    {
      "cell_type": "code",
      "metadata": {
        "id": "N8x7Kt75g8_U",
        "outputId": "aa54c7a7-3bdb-48a3-fc9a-43bbf2db841b"
      },
      "source": [
        "colors = ['red', 'green', 'blue']\n",
        "colors.append('purple')\n",
        "colors"
      ],
      "execution_count": null,
      "outputs": [
        {
          "output_type": "execute_result",
          "data": {
            "text/plain": [
              "['red', 'green', 'blue', 'purple']"
            ]
          },
          "metadata": {
            "tags": []
          },
          "execution_count": 21
        }
      ]
    },
    {
      "cell_type": "markdown",
      "metadata": {
        "id": "GW2pHPwlg8_Y"
      },
      "source": [
        "### List Slicing\n"
      ]
    },
    {
      "cell_type": "code",
      "metadata": {
        "id": "jiP7a-Nrg8_Z",
        "outputId": "fb14b6c3-d397-495b-925d-3ff19375ce2e"
      },
      "source": [
        "print(colors[0])\n",
        "print(colors[0][1])"
      ],
      "execution_count": null,
      "outputs": [
        {
          "output_type": "stream",
          "text": [
            "red\n",
            "e\n"
          ],
          "name": "stdout"
        }
      ]
    },
    {
      "cell_type": "markdown",
      "metadata": {
        "id": "QieyMTJvg8_o"
      },
      "source": [
        "### List Comprehensions\n"
      ]
    },
    {
      "cell_type": "code",
      "metadata": {
        "id": "hafro6mUg8_o",
        "outputId": "f826ce8f-df6c-4b46-8428-329c90fa2a97"
      },
      "source": [
        "numbers = [1, 2, 3, 4, 5, 6, 7, 8]\n",
        "squares = [n*n for n in numbers]\n",
        "\n",
        "print(squares)"
      ],
      "execution_count": null,
      "outputs": [
        {
          "output_type": "stream",
          "text": [
            "[1, 4, 9, 16, 25, 36, 49, 64]\n"
          ],
          "name": "stdout"
        }
      ]
    },
    {
      "cell_type": "code",
      "metadata": {
        "id": "bIjdpqUVxjvQ",
        "outputId": "7daf356a-0a13-4260-b988-145ba598d1b3"
      },
      "source": [
        "numbers = [1, 2, 3, 4, 5, 6, 7, 8]\n",
        "squares_oddnum = [n*n for n in numbers if n%2==1]\n",
        "\n",
        "print(squares_oddnum)"
      ],
      "execution_count": null,
      "outputs": [
        {
          "output_type": "stream",
          "text": [
            "[1, 9, 25, 49]\n"
          ],
          "name": "stdout"
        }
      ]
    },
    {
      "cell_type": "code",
      "metadata": {
        "id": "uxx1pDjVxjvR",
        "outputId": "e27754bb-9a7b-488a-b159-87565242ea63"
      },
      "source": [
        "numbers = [1, 2, 3, 4, 5, 6, 7, 8]\n",
        "[n*n for n in numbers if n%2==0]\n",
        "\n"
      ],
      "execution_count": null,
      "outputs": [
        {
          "output_type": "execute_result",
          "data": {
            "text/plain": [
              "[1, 9, 25, 49]"
            ]
          },
          "metadata": {
            "tags": []
          },
          "execution_count": 33
        }
      ]
    },
    {
      "cell_type": "markdown",
      "metadata": {
        "id": "Y3EFcgcfxjvS"
      },
      "source": [
        "### Sorting a given list\n",
        "\n"
      ]
    },
    {
      "cell_type": "code",
      "metadata": {
        "id": "LcPubJx5xjvS",
        "outputId": "c4b4c270-1364-4282-92bb-f1eb73baa3e7"
      },
      "source": [
        "# vowels list\n",
        "vowels = ['e', 'a', 'u', 'o', 'i']\n",
        "\n",
        "# sort the vowels\n",
        "vowels.sort()\n",
        "\n",
        "# print vowels\n",
        "print('Sorted list:', vowels)"
      ],
      "execution_count": null,
      "outputs": [
        {
          "output_type": "stream",
          "text": [
            "Sorted list: ['a', 'e', 'i', 'o', 'u']\n"
          ],
          "name": "stdout"
        }
      ]
    },
    {
      "cell_type": "markdown",
      "metadata": {
        "id": "vZzXIWyZxjvT"
      },
      "source": [
        "### Searching for an element in a list\n",
        "\n"
      ]
    },
    {
      "cell_type": "code",
      "metadata": {
        "id": "gzEISLbkxjvT",
        "outputId": "28d7e344-bd8c-4261-cf3e-83e8c8238620"
      },
      "source": [
        "# vowels list\n",
        "vowels = ['e', 'a', 'u', 'o', 'i']\n",
        "\n",
        "vowels.index(\"u\")"
      ],
      "execution_count": null,
      "outputs": [
        {
          "output_type": "execute_result",
          "data": {
            "text/plain": [
              "2"
            ]
          },
          "metadata": {
            "tags": []
          },
          "execution_count": 36
        }
      ]
    }
  ]
}