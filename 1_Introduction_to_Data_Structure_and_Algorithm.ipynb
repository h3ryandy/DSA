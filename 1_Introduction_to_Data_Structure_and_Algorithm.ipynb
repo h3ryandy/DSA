{
  "nbformat": 4,
  "nbformat_minor": 0,
  "metadata": {
    "colab": {
      "name": "1 - Introduction to Data Structure and Algorithm.ipynb",
      "provenance": [],
      "include_colab_link": true
    },
    "kernelspec": {
      "display_name": "Python 3",
      "language": "python",
      "name": "python3"
    },
    "language_info": {
      "codemirror_mode": {
        "name": "ipython",
        "version": 3
      },
      "file_extension": ".py",
      "mimetype": "text/x-python",
      "name": "python",
      "nbconvert_exporter": "python",
      "pygments_lexer": "ipython3",
      "version": "3.8.3"
    }
  },
  "cells": [
    {
      "cell_type": "markdown",
      "metadata": {
        "id": "view-in-github",
        "colab_type": "text"
      },
      "source": [
        "<a href=\"https://colab.research.google.com/github/h3ryandy/DSA/blob/main/1_Introduction_to_Data_Structure_and_Algorithm.ipynb\" target=\"_parent\"><img src=\"https://colab.research.google.com/assets/colab-badge.svg\" alt=\"Open In Colab\"/></a>"
      ]
    },
    {
      "cell_type": "markdown",
      "metadata": {
        "id": "kY33yv3Wg888"
      },
      "source": [
        "# Data Structure and Algorithm\n",
        "\n"
      ]
    },
    {
      "cell_type": "markdown",
      "metadata": {
        "id": "0hCMtLipg88-"
      },
      "source": [
        "## About the instructor: \n",
        "    \n",
        "**Ts. Dr. Yu Yong Poh**\n",
        "\n",
        "REDBEAT ACADEMY, AIRASIA\n",
        "    \n",
        "yongpohyu@airasia.com\n",
        "\n",
        "LinkedIn: [Yong Poh Yu](https://www.linkedin.com/in/yong-poh-yu/)\n",
        "\n",
        "©2021 RedBeat Academy Sdn. Bhd. All rights reserved."
      ]
    },
    {
      "cell_type": "markdown",
      "metadata": {
        "id": "fuSPkshiPXk6"
      },
      "source": [
        "## Main References:\n",
        "\n",
        "- [Tutorial Points](https://www.tutorialspoint.com/python_data_structure/index.htm)\n",
        "- [and Many More...](https://www.google.com/search?q=data+structures+and+algorithms+in+python&oq=data+structures+and+algorithms+in+python)\n",
        "\n"
      ]
    },
    {
      "cell_type": "markdown",
      "metadata": {
        "id": "9dpFjCzUPXlF"
      },
      "source": [
        "# 1: Data Structure and Algorithm - Overview"
      ]
    },
    {
      "cell_type": "markdown",
      "metadata": {
        "id": "NpBg_UjaPXlI"
      },
      "source": [
        "Computers store and process data with an extra ordinary speed and accuracy. So it is highly essential that the data is stored efficiently and can be accessed fast. Also the processing of data should happen in the smallest possible time but without losing the accuracy.\n",
        "\n",
        "Data structures deal with how the data is organized and held in the memory when a program processes it. It is important to note that the data that is stored in the disk as part of persistent storages (like relational tables) are not referred as data structure here.\n",
        "\n",
        "An Algorithm is step by step set of instruction to process the data for a specific purpose. So an algorithm utilizes various data structures in a logical way to solve a specific computing problem.\n"
      ]
    },
    {
      "cell_type": "markdown",
      "metadata": {
        "id": "oGvETCxGg89I"
      },
      "source": [
        "## General Data Structure\n"
      ]
    },
    {
      "cell_type": "markdown",
      "metadata": {
        "id": "GCI3FpfDPXlR"
      },
      "source": [
        "![alt text](General-Data-Structures.png \"General Data Structure\")\n"
      ]
    },
    {
      "cell_type": "code",
      "metadata": {
        "id": "JyEMKNQPg89J",
        "scrolled": true
      },
      "source": [
        "### Python Built-in Data-structures:\n",
        "**Lists**: Stores indexed elements that are changeable and can contain duplicate items\n",
        "\n",
        "**Tuples**: Stores indexed, unchangeable elements that can have duplicate copies\n",
        "\n",
        "**Dictionaries**: Store key-value pairs that are changeable\n",
        "\n",
        "**Sets**: Contains unordered, unique elements that are mutable"
      ],
      "execution_count": null,
      "outputs": []
    },
    {
      "cell_type": "code",
      "metadata": {
        "id": "3xdJ-C5cPXlX",
        "outputId": "9436eb07-c128-4391-b946-74f2be40563b"
      },
      "source": [
        "# Example: List\n",
        "\n",
        "vowels = ['e', 'a', 'u', 'o', 'i'] # square bracket indicates that it is a list\n",
        "vowels[2]"
      ],
      "execution_count": null,
      "outputs": [
        {
          "output_type": "execute_result",
          "data": {
            "text/plain": [
              "'u'"
            ]
          },
          "metadata": {
            "tags": []
          },
          "execution_count": 3
        }
      ]
    },
    {
      "cell_type": "code",
      "metadata": {
        "id": "GJ23FKsZPXld",
        "outputId": "422dbaf5-423e-49e7-c332-3b264774a66e"
      },
      "source": [
        "# Change an element in the list\n",
        "\n",
        "vowels[2] = 'a'\n",
        "vowels"
      ],
      "execution_count": null,
      "outputs": [
        {
          "output_type": "execute_result",
          "data": {
            "text/plain": [
              "['e', 'a', 'a', 'o', 'i']"
            ]
          },
          "metadata": {
            "tags": []
          },
          "execution_count": 4
        }
      ]
    },
    {
      "cell_type": "code",
      "metadata": {
        "id": "7BXsyWsTPXlf",
        "outputId": "52d8e60a-afe0-439f-f7f6-b07c345e2a6c"
      },
      "source": [
        "# Example: Tuple\n",
        "\n",
        "vowels = ('e', 'a', 'u', 'o', 'i') # parenthesis indicates that it is a tuple\n",
        "vowels[2]"
      ],
      "execution_count": null,
      "outputs": [
        {
          "output_type": "execute_result",
          "data": {
            "text/plain": [
              "'u'"
            ]
          },
          "metadata": {
            "tags": []
          },
          "execution_count": 5
        }
      ]
    },
    {
      "cell_type": "code",
      "metadata": {
        "scrolled": true,
        "id": "fPOSW8t4PXll",
        "outputId": "c8be5d4c-207d-4345-dfad-b3b0447f6820"
      },
      "source": [
        "# Change an element in the tuple\n",
        "\n",
        "vowels[2] = 'a' # observe the error message\n",
        "vowels"
      ],
      "execution_count": null,
      "outputs": [
        {
          "output_type": "error",
          "ename": "TypeError",
          "evalue": "'tuple' object does not support item assignment",
          "traceback": [
            "\u001b[1;31m---------------------------------------------------------------------------\u001b[0m",
            "\u001b[1;31mTypeError\u001b[0m                                 Traceback (most recent call last)",
            "\u001b[1;32m<ipython-input-6-5b340f807067>\u001b[0m in \u001b[0;36m<module>\u001b[1;34m\u001b[0m\n\u001b[0;32m      1\u001b[0m \u001b[1;31m# Change an element in the tuple\u001b[0m\u001b[1;33m\u001b[0m\u001b[1;33m\u001b[0m\u001b[1;33m\u001b[0m\u001b[0m\n\u001b[0;32m      2\u001b[0m \u001b[1;33m\u001b[0m\u001b[0m\n\u001b[1;32m----> 3\u001b[1;33m \u001b[0mvowels\u001b[0m\u001b[1;33m[\u001b[0m\u001b[1;36m2\u001b[0m\u001b[1;33m]\u001b[0m \u001b[1;33m=\u001b[0m \u001b[1;34m'a'\u001b[0m\u001b[1;33m\u001b[0m\u001b[1;33m\u001b[0m\u001b[0m\n\u001b[0m\u001b[0;32m      4\u001b[0m \u001b[0mvowels\u001b[0m\u001b[1;33m\u001b[0m\u001b[1;33m\u001b[0m\u001b[0m\n",
            "\u001b[1;31mTypeError\u001b[0m: 'tuple' object does not support item assignment"
          ]
        }
      ]
    },
    {
      "cell_type": "code",
      "metadata": {
        "id": "KnvC0cl8PXlo",
        "outputId": "30ba8856-d504-421d-d321-d0ca054fd9cb"
      },
      "source": [
        "# Example: Dictionary \n",
        "# Dictionary comes with key-value pairs\n",
        "\n",
        "\n",
        "my_dict = {'name': 'Jack', 'age': 26}\n",
        "my_dict"
      ],
      "execution_count": null,
      "outputs": [
        {
          "output_type": "execute_result",
          "data": {
            "text/plain": [
              "{'name': 'Jack', 'age': 26}"
            ]
          },
          "metadata": {
            "tags": []
          },
          "execution_count": 7
        }
      ]
    },
    {
      "cell_type": "code",
      "metadata": {
        "scrolled": true,
        "id": "gHcpzBJaPXmZ",
        "outputId": "2b8723a7-b621-4176-a7e1-c6ed3e11e52b"
      },
      "source": [
        "# Get the elements: \n",
        "\n",
        "# Output: Jack\n",
        "print(my_dict['name'])\n",
        "\n",
        "# Output: 26\n",
        "print(my_dict.get('age'))\n",
        "\n",
        "# Trying to access keys which doesn't exist throws error\n",
        "# Output None\n",
        "print(my_dict.get('address'))\n",
        "\n",
        "# KeyError\n",
        "print(my_dict['address'])"
      ],
      "execution_count": null,
      "outputs": [
        {
          "output_type": "stream",
          "text": [
            "Jack\n",
            "26\n",
            "None\n"
          ],
          "name": "stdout"
        },
        {
          "output_type": "error",
          "ename": "KeyError",
          "evalue": "'address'",
          "traceback": [
            "\u001b[1;31m---------------------------------------------------------------------------\u001b[0m",
            "\u001b[1;31mKeyError\u001b[0m                                  Traceback (most recent call last)",
            "\u001b[1;32m<ipython-input-8-50e9e0709046>\u001b[0m in \u001b[0;36m<module>\u001b[1;34m\u001b[0m\n\u001b[0;32m     12\u001b[0m \u001b[1;33m\u001b[0m\u001b[0m\n\u001b[0;32m     13\u001b[0m \u001b[1;31m# KeyError\u001b[0m\u001b[1;33m\u001b[0m\u001b[1;33m\u001b[0m\u001b[1;33m\u001b[0m\u001b[0m\n\u001b[1;32m---> 14\u001b[1;33m \u001b[0mprint\u001b[0m\u001b[1;33m(\u001b[0m\u001b[0mmy_dict\u001b[0m\u001b[1;33m[\u001b[0m\u001b[1;34m'address'\u001b[0m\u001b[1;33m]\u001b[0m\u001b[1;33m)\u001b[0m\u001b[1;33m\u001b[0m\u001b[1;33m\u001b[0m\u001b[0m\n\u001b[0m",
            "\u001b[1;31mKeyError\u001b[0m: 'address'"
          ]
        }
      ]
    },
    {
      "cell_type": "code",
      "metadata": {
        "id": "pP2S_A2tPXmc"
      },
      "source": [
        "# Example: Set\n",
        "# Sets, unlike lists or tuples, \n",
        "# cannot have multiple occurrences of the same element\n",
        "\n",
        "dataScientist = {'Python', 'R', 'SQL', 'Git', 'Tableau', 'SAS'}\n",
        "dataEngineer = {'Python', 'Java', 'Scala', 'Git', 'SQL', 'Hadoop'}"
      ],
      "execution_count": null,
      "outputs": []
    },
    {
      "cell_type": "code",
      "metadata": {
        "scrolled": true,
        "id": "Q9ju2ayfPXmf",
        "outputId": "0a51b37f-75f1-4a06-90c0-c8d37b3dc913"
      },
      "source": [
        "dataScientist"
      ],
      "execution_count": null,
      "outputs": [
        {
          "output_type": "execute_result",
          "data": {
            "text/plain": [
              "{'Git', 'Python', 'R', 'SAS', 'SQL', 'Tableau'}"
            ]
          },
          "metadata": {
            "tags": []
          },
          "execution_count": 10
        }
      ]
    },
    {
      "cell_type": "code",
      "metadata": {
        "id": "xVERjAxkPXmm"
      },
      "source": [
        "dataScientist = {'Python', 'R', 'R', 'Git', 'Tableau', 'SAS'}"
      ],
      "execution_count": null,
      "outputs": []
    },
    {
      "cell_type": "code",
      "metadata": {
        "id": "v0XeVucSPXmp",
        "outputId": "c51a034c-ac80-4aeb-cdb5-a2aecf65bce7"
      },
      "source": [
        "# Observe the following: \n",
        "\n",
        "dataScientist"
      ],
      "execution_count": null,
      "outputs": [
        {
          "output_type": "execute_result",
          "data": {
            "text/plain": [
              "{'Git', 'Python', 'R', 'SAS', 'Tableau'}"
            ]
          },
          "metadata": {
            "tags": []
          },
          "execution_count": 13
        }
      ]
    },
    {
      "cell_type": "markdown",
      "metadata": {
        "id": "kxaXHtOUPXmr"
      },
      "source": [
        "### Exercise: Adding a value /element into a set\n",
        "\n"
      ]
    },
    {
      "cell_type": "code",
      "metadata": {
        "id": "8kI8KMJYPXms"
      },
      "source": [
        "# Initialize set with values\n",
        "\n",
        "graphicDesigner = {'InDesign', 'Photoshop', 'Acrobat', 'Premiere', 'Bridge'}"
      ],
      "execution_count": null,
      "outputs": []
    },
    {
      "cell_type": "code",
      "metadata": {
        "scrolled": true,
        "id": "wRtNguf4PXmu",
        "outputId": "c75527f7-9421-4dfb-f25a-f7a028e10806"
      },
      "source": [
        "# Add 'Illustrator' into the graphicDesigner set\n",
        "\n"
      ],
      "execution_count": null,
      "outputs": [
        {
          "output_type": "execute_result",
          "data": {
            "text/plain": [
              "{'Acrobat', 'Bridge', 'Illustrator', 'InDesign', 'Photoshop', 'Premiere'}"
            ]
          },
          "metadata": {
            "tags": []
          },
          "execution_count": 16
        }
      ]
    },
    {
      "cell_type": "markdown",
      "metadata": {
        "id": "rvZn2pDFPXmy"
      },
      "source": [
        "### Exercise : Simple Application\n",
        "\n",
        "Referring to the [list](https://www.google.com/search?q=top+programming+languages+ieee&oq=top+programming+languages+ieee) of Top Programming Languages, \n",
        "\n",
        "1: Create a dictionary to reflect the key-value pairs accordingly. Give the top six programming languages\n",
        "2: Access elements using the keys only, eg, the second top programming language\n",
        "3: Assuming Go language has becomes second top. Insert it into the dictionary accordingly. "
      ]
    },
    {
      "cell_type": "code",
      "metadata": {
        "id": "EwduXZ-NPXm3",
        "outputId": "df2435d6-72c1-4d5e-de7d-e225f2e89459"
      },
      "source": [
        ""
      ],
      "execution_count": null,
      "outputs": [
        {
          "output_type": "execute_result",
          "data": {
            "text/plain": [
              "{'First': 'Python',\n",
              " 'Second': 'Java',\n",
              " 'Third': 'C',\n",
              " 'Forth': 'C++',\n",
              " 'Fifth': 'Javascript',\n",
              " 'Sixth': 'R'}"
            ]
          },
          "metadata": {
            "tags": []
          },
          "execution_count": 22
        }
      ]
    },
    {
      "cell_type": "code",
      "metadata": {
        "id": "gRAfYq_IPXm4",
        "outputId": "1826cf56-db6b-4d7c-fa86-9cfe0033b36c"
      },
      "source": [
        ""
      ],
      "execution_count": null,
      "outputs": [
        {
          "output_type": "execute_result",
          "data": {
            "text/plain": [
              "'Java'"
            ]
          },
          "metadata": {
            "tags": []
          },
          "execution_count": 23
        }
      ]
    },
    {
      "cell_type": "code",
      "metadata": {
        "id": "CdGhXtERPXm8",
        "outputId": "b5fdb441-2380-43fb-9afd-a69bbf50fbca"
      },
      "source": [
        ""
      ],
      "execution_count": null,
      "outputs": [
        {
          "output_type": "execute_result",
          "data": {
            "text/plain": [
              "'Go'"
            ]
          },
          "metadata": {
            "tags": []
          },
          "execution_count": 25
        }
      ]
    },
    {
      "cell_type": "markdown",
      "metadata": {
        "id": "_I8QUrO7g89P"
      },
      "source": [
        "### Linear Data Structures\n",
        "\n",
        "These are the data structures which store the data elements in a sequential manner.\n",
        "\n",
        "**Array**: It is a sequential arrangement of data elements paired with the index of the data element.\n",
        "\n",
        "**Linked List**: Each data element contains a link to another element along with the data present in it.\n",
        "\n",
        "**Stack**: It is a data structure which follows only to specific order of operation. LIFO(last in First Out) or FILO(First in Last Out).\n",
        "\n",
        "**Queue**: It is similar to Stack but the order of operation is only FIFO(First In First Out).\n",
        "Matrix: It is two dimensional data structure in which the data element is referred by a pair of indices."
      ]
    },
    {
      "cell_type": "markdown",
      "metadata": {
        "id": "LRGE2rA-PXnM"
      },
      "source": [
        "### Non-Linear Data Structures\n",
        "\n",
        "These are the data structures in which there is no sequential linking of data elements. Any pair or group of data elements can be linked to each other and can be accessed without a strict sequence.\n",
        "\n",
        "\n",
        "**Binary Tree**: It is a data structure where each data element can be connected to maximum two other data elements and it starts with a root node.\n",
        "\n",
        "**Heap**: It is a special case of Tree data structure where the data in the parent node is either strictly greater than/ equal to the child nodes or strictly less than it’s child nodes.\n",
        "\n",
        "**Hash Table**: It is a data structure which is made of arrays associated with each other using a hash function. It retrieves values using keys rather than index from a data element.\n",
        "\n",
        "**Graph**: It is an arrangement of vertices and nodes where some of the nodes are connected to each other through links.\n"
      ]
    },
    {
      "cell_type": "markdown",
      "metadata": {
        "id": "5P2tymplPXnP"
      },
      "source": [
        "### Note: More details (including examples & practical codings) will be discussed later"
      ]
    },
    {
      "cell_type": "markdown",
      "metadata": {
        "id": "9nAw6NMWPXnR"
      },
      "source": [
        "## Algorithms:\n",
        " \n",
        "\n",
        "**What are Algorithms?**\n",
        "Algorithms are rules or instructions that are formulated in a finite, sequential order to solve problems and get the required results. They give the pseudocode for problems and can be implemented in several languages as they are not language-specific.\n",
        "\n",
        "**How do you Write Algorithms?**\n",
        "\n",
        "Algorithms are generally written as a combination of user-understandable language and some common programming languages. They are commonly written down in steps however, it is not always necessary to do so. There are no distinct rules to formulate algorithms but you will need to keep the following points in mind:\n",
        "\n",
        "- Figure out what is the exact problem\n",
        "- Determine where you need to start\n",
        "- Determine where you need to stop\n",
        "- Formulate the intermediate steps\n",
        "- Review your steps\n",
        "\n",
        "\n",
        "For example, if you have to formulate an algorithm to check if a student has passed in an exam or not, you can follow the given steps:\n",
        "\n",
        "Step 1: START\n",
        "\n",
        "Step 2: Declare two variables x, y\n",
        "\n",
        "Step 3: Store the marks obtained by the student in x\n",
        "\n",
        "Step 4: Store the minimum passing score in y\n",
        "\n",
        "Step 5: Check if x is greater than or equal to y. If yes, then return “Pass” else return “Fail”\n",
        "\n",
        "Step 6: STOP\n",
        "\n",
        "However, you can manipulate the steps according to your preference. For instance, you can assign the values to the variables in step 2 itself rather than taking steps 3 and 4. This way, a single problem can have multiple solutions and it depends on the problem and the programmer to choose the most feasible and reliable solution.\n",
        "\n",
        " \n",
        "\n",
        "**Elements of a Good Algorithm**:\n",
        "\n",
        "- The steps need to be finite, clear and understandable\n",
        "- There should be a clear and precise description of inputs and outputs\n",
        "- Each step need to have a defined output that depends only on inputs in that step or the preceding steps\n",
        "- The algorithm should be flexible enough to mold it in order to allow a number of solutions\n",
        "- The steps should make use of general programming fundamentals and should not be language-specific\n",
        " "
      ]
    },
    {
      "cell_type": "markdown",
      "metadata": {
        "id": "tlJBHCxQPXnT"
      },
      "source": [
        "### Exercise: \n",
        "\n",
        "By using Python, write an algorithm to check if a student has passed in an exam or not, you can follow the given steps:\n",
        "\n",
        "Step 1: START\n",
        "\n",
        "Step 2: Declare two variables x, y\n",
        "\n",
        "Step 3: Store the marks obtained by the student in x\n",
        "\n",
        "Step 4: Store the minimum passing score in y\n",
        "\n",
        "Step 5: Check if x is greater than or equal to y. If yes, then return “Pass” else return “Fail”\n",
        "\n",
        "Step 6: STOP"
      ]
    },
    {
      "cell_type": "code",
      "metadata": {
        "id": "qb2ZJAwWPXnZ"
      },
      "source": [
        ""
      ],
      "execution_count": null,
      "outputs": []
    }
  ]
}